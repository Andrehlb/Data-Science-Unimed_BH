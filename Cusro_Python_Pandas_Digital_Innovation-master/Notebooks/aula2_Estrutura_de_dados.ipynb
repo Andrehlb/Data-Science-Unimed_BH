{
  "nbformat": 4,
  "nbformat_minor": 0,
  "metadata": {
    "colab": {
      "name": "Estrutura_de_dados.ipynb",
      "provenance": []
    },
    "kernelspec": {
      "name": "python3",
      "display_name": "Python 3"
    }
  },
  "cells": [
    {
      "cell_type": "markdown",
      "metadata": {
        "id": "K-N4ha5EG6ky"
      },
      "source": [
        "# **Curso Python Para Análise de dados** - *Fernanda Santos*"
      ]
    },
    {
      "cell_type": "markdown",
      "metadata": {
        "id": "P5yjJd4Se7a8"
      },
      "source": [
        "# **Estrutura de dados**"
      ]
    },
    {
      "cell_type": "markdown",
      "metadata": {
        "id": "0VKL1NCNhUfG"
      },
      "source": [
        "## **Listas**"
      ]
    },
    {
      "cell_type": "code",
      "metadata": {
        "id": "XHAFPHWmfFoB",
        "colab": {
          "base_uri": "https://localhost:8080/",
          "height": 34
        },
        "outputId": "5dbb8e99-09ba-40db-f848-f2395ded9c73"
      },
      "source": [
        "#Criando uma lista chamada animais\n",
        "animais = [1,2,3]\n",
        "animais"
      ],
      "execution_count": null,
      "outputs": [
        {
          "output_type": "execute_result",
          "data": {
            "text/plain": [
              "[1, 2, 3]"
            ]
          },
          "metadata": {
            "tags": []
          },
          "execution_count": 3
        }
      ]
    },
    {
      "cell_type": "code",
      "metadata": {
        "id": "5v-w_ftdga0J",
        "colab": {
          "base_uri": "https://localhost:8080/"
        },
        "outputId": "d29ba676-a99d-4526-ad18-ebe33aa2bcb2"
      },
      "source": [
        "animais = [\"cachorro\", \"gato\", 12345, 6.5]\n",
        "animais"
      ],
      "execution_count": 6,
      "outputs": [
        {
          "output_type": "execute_result",
          "data": {
            "text/plain": [
              "['cachorro', 'gato', 12345, 6.5]"
            ]
          },
          "metadata": {},
          "execution_count": 6
        }
      ]
    },
    {
      "cell_type": "code",
      "metadata": {
        "id": "bJkOFrGfgrKR",
        "colab": {
          "base_uri": "https://localhost:8080/",
          "height": 36
        },
        "outputId": "4bbde129-18cf-479d-98ee-38655f5c1ae1"
      },
      "source": [
        "#Imprimindo o primeiro elemento da lista\n",
        "animais[0]"
      ],
      "execution_count": 7,
      "outputs": [
        {
          "output_type": "execute_result",
          "data": {
            "text/plain": [
              "'cachorro'"
            ],
            "application/vnd.google.colaboratory.intrinsic+json": {
              "type": "string"
            }
          },
          "metadata": {},
          "execution_count": 7
        }
      ]
    },
    {
      "cell_type": "code",
      "metadata": {
        "id": "M-2mXu3mgvuS",
        "colab": {
          "base_uri": "https://localhost:8080/"
        },
        "outputId": "d1c4c9c9-11e8-4681-e649-ea0f5bed0ed9"
      },
      "source": [
        "#Imprimindo o 4 elemento da lista\n",
        "animais[3]"
      ],
      "execution_count": 8,
      "outputs": [
        {
          "output_type": "execute_result",
          "data": {
            "text/plain": [
              "6.5"
            ]
          },
          "metadata": {},
          "execution_count": 8
        }
      ]
    },
    {
      "cell_type": "code",
      "metadata": {
        "id": "RDCW4hs_gxyT"
      },
      "source": [
        "#Substituindo o primeiro elemento da lista\n",
        "animais[0] = \"papagaio\""
      ],
      "execution_count": null,
      "outputs": []
    },
    {
      "cell_type": "code",
      "metadata": {
        "id": "QJrP-830gzvh",
        "colab": {
          "base_uri": "https://localhost:8080/",
          "height": 34
        },
        "outputId": "e69ecaaa-d6a3-48ee-e08a-33b3c2417ad8"
      },
      "source": [
        "animais"
      ],
      "execution_count": null,
      "outputs": [
        {
          "output_type": "execute_result",
          "data": {
            "text/plain": [
              "['papagaio', 'gato', 12345, 6.5]"
            ]
          },
          "metadata": {
            "tags": []
          },
          "execution_count": 8
        }
      ]
    },
    {
      "cell_type": "code",
      "metadata": {
        "id": "3QFbAI6Og0wP"
      },
      "source": [
        "#Removendo gato da lista\n",
        "animais.remove(\"gato\")"
      ],
      "execution_count": null,
      "outputs": []
    },
    {
      "cell_type": "code",
      "metadata": {
        "id": "b8g1bs42g31p",
        "colab": {
          "base_uri": "https://localhost:8080/",
          "height": 34
        },
        "outputId": "c4fa21bc-0375-4c4f-d645-1fa535ac3559"
      },
      "source": [
        "animais"
      ],
      "execution_count": null,
      "outputs": [
        {
          "output_type": "execute_result",
          "data": {
            "text/plain": [
              "['papagaio', 12345, 6.5]"
            ]
          },
          "metadata": {
            "tags": []
          },
          "execution_count": 10
        }
      ]
    },
    {
      "cell_type": "code",
      "metadata": {
        "id": "xfu4p_g3g7OS",
        "colab": {
          "base_uri": "https://localhost:8080/"
        },
        "outputId": "a93e16e1-a0fd-4eb2-ce9b-c3b92d831eae"
      },
      "source": [
        "#saber quantidade de elementos na lista\n",
        "len(animais)"
      ],
      "execution_count": 9,
      "outputs": [
        {
          "output_type": "execute_result",
          "data": {
            "text/plain": [
              "4"
            ]
          },
          "metadata": {},
          "execution_count": 9
        }
      ]
    },
    {
      "cell_type": "code",
      "metadata": {
        "id": "0HedcjoFg-5m",
        "colab": {
          "base_uri": "https://localhost:8080/",
          "height": 34
        },
        "outputId": "04ebec34-a75f-404a-b719-0ca710a24059"
      },
      "source": [
        "#como saber se um elemento pertence à lista\n",
        "\"gato\" in animais"
      ],
      "execution_count": null,
      "outputs": [
        {
          "output_type": "execute_result",
          "data": {
            "text/plain": [
              "False"
            ]
          },
          "metadata": {
            "tags": []
          },
          "execution_count": 12
        }
      ]
    },
    {
      "cell_type": "code",
      "metadata": {
        "id": "VDZ6nZU2hDdf"
      },
      "source": [
        "lista = [500, 30, 300, 80, 10]"
      ],
      "execution_count": 1,
      "outputs": []
    },
    {
      "cell_type": "code",
      "metadata": {
        "id": "VjrYRfHJhGhL"
      },
      "source": [
        "#maior elemento - número máximo\n",
        "max(lista)"
      ],
      "execution_count": 2,
      "outputs": []
    },
    {
      "cell_type": "code",
      "metadata": {
        "id": "jkeXKWQPhJRr",
        "colab": {
          "base_uri": "https://localhost:8080/"
        },
        "outputId": "f7e6b717-6fcb-4e6a-ccce-2807280371e3"
      },
      "source": [
        "#valor mínimo na list - número mínimo\n",
        "min(lista)"
      ],
      "execution_count": 3,
      "outputs": [
        {
          "output_type": "execute_result",
          "data": {
            "text/plain": [
              "10"
            ]
          },
          "metadata": {},
          "execution_count": 3
        }
      ]
    },
    {
      "cell_type": "code",
      "metadata": {
        "id": "20T_hCwAhMsU"
      },
      "source": [
        "#adicionar elementos na lista\n",
        "animais.append([\"leão\", \"Cachorro\"])"
      ],
      "execution_count": 10,
      "outputs": []
    },
    {
      "cell_type": "code",
      "source": [
        "animais.append('zebra')"
      ],
      "metadata": {
        "id": "VrnMPB1c6rk_"
      },
      "execution_count": 27,
      "outputs": []
    },
    {
      "cell_type": "code",
      "metadata": {
        "id": "WgWWMNJXhQdB",
        "colab": {
          "base_uri": "https://localhost:8080/"
        },
        "outputId": "1a161768-1955-42f5-a36f-73b0fe46a5db"
      },
      "source": [
        "animais"
      ],
      "execution_count": 13,
      "outputs": [
        {
          "output_type": "execute_result",
          "data": {
            "text/plain": [
              "['cachorro', 'gato', 12345, 6.5, ['leão', 'Cachorro'], 'zebra']"
            ]
          },
          "metadata": {},
          "execution_count": 13
        }
      ]
    },
    {
      "cell_type": "code",
      "metadata": {
        "id": "Cl-M69f5hSsD"
      },
      "source": [
        "#passar mais de um elemento para dentro da lista\n",
        "animais.extend([\"cobra\", 6])"
      ],
      "execution_count": 20,
      "outputs": []
    },
    {
      "cell_type": "code",
      "source": [
        "animais.extend(['sapo', 'ariranha', 'girino', 'lagoa', 3.55, 'lago', ['morro', 3.14, 'selva']])"
      ],
      "metadata": {
        "id": "BLBs6xbG7IS2"
      },
      "execution_count": 23,
      "outputs": []
    },
    {
      "cell_type": "code",
      "metadata": {
        "id": "_scJEZbWMFBW",
        "colab": {
          "base_uri": "https://localhost:8080/"
        },
        "outputId": "7d8f0c7c-abf5-49f0-d3b1-df81920937da"
      },
      "source": [
        "animais"
      ],
      "execution_count": 24,
      "outputs": [
        {
          "output_type": "execute_result",
          "data": {
            "text/plain": [
              "['cachorro',\n",
              " 'gato',\n",
              " 12345,\n",
              " 6.5,\n",
              " ['leão', 'Cachorro'],\n",
              " 'zebra',\n",
              " 'cobra',\n",
              " 6,\n",
              " 'cobra',\n",
              " 6,\n",
              " 'sapo',\n",
              " 'ariranha',\n",
              " 'girino',\n",
              " 'lagoa',\n",
              " 'sapo',\n",
              " 'ariranha',\n",
              " 'girino',\n",
              " 'lagoa',\n",
              " 3.55,\n",
              " 'lago',\n",
              " ['morro', 3.14, 'selva']]"
            ]
          },
          "metadata": {},
          "execution_count": 24
        }
      ]
    },
    {
      "cell_type": "code",
      "metadata": {
        "id": "kNn0DiyxheHC"
      },
      "source": [
        "#contar quantos elementos tem dentro da lista\n",
        "animais.count(\"leão\")\n",
        "animais.count(6)"
      ],
      "execution_count": null,
      "outputs": []
    },
    {
      "cell_type": "code",
      "metadata": {
        "id": "VgoLBevzhinC"
      },
      "source": [
        "#ordenar, na lista, os elementos do menor para o maior\n",
        "lista.sort()"
      ],
      "execution_count": 33,
      "outputs": []
    },
    {
      "cell_type": "code",
      "metadata": {
        "id": "mPJTKqXMhrDB",
        "colab": {
          "base_uri": "https://localhost:8080/"
        },
        "outputId": "d7fcf57a-fa27-4c66-900c-0a9fec7e5fff"
      },
      "source": [
        "lista"
      ],
      "execution_count": 32,
      "outputs": [
        {
          "output_type": "execute_result",
          "data": {
            "text/plain": [
              "[10, 30, 80, 300, 500]"
            ]
          },
          "metadata": {},
          "execution_count": 32
        }
      ]
    },
    {
      "cell_type": "markdown",
      "metadata": {
        "id": "VHmSI4EcoX-h"
      },
      "source": [
        "# **Tuplas**\n",
        "são imutáveis, não permitem alteração.\n",
        "lista = [ ]\n",
        "tupla = ( )"
      ]
    },
    {
      "cell_type": "code",
      "metadata": {
        "id": "Qrv07mzWocDT"
      },
      "source": [
        "#As tuplas usam parênteses como sintaxe\n",
        "tp = (\"Banana\", \"Maçã\", 10, 50)"
      ],
      "execution_count": 35,
      "outputs": []
    },
    {
      "cell_type": "code",
      "metadata": {
        "id": "r7ZMMLn8pt7R",
        "colab": {
          "base_uri": "https://localhost:8080/",
          "height": 36
        },
        "outputId": "655d3457-886f-436b-fa1b-20ad4927fc6e"
      },
      "source": [
        "#Retornando o primeiro elemento\n",
        "tp[0]"
      ],
      "execution_count": 36,
      "outputs": [
        {
          "output_type": "execute_result",
          "data": {
            "text/plain": [
              "'Banana'"
            ],
            "application/vnd.google.colaboratory.intrinsic+json": {
              "type": "string"
            }
          },
          "metadata": {},
          "execution_count": 36
        }
      ]
    },
    {
      "cell_type": "code",
      "metadata": {
        "id": "jKRnh-DbpzBj"
      },
      "source": [
        "#Diferente das listas as tuplas são imutáveis, o que quer dizer que não podemos alterar os seus elementos\n",
        "tp[0] = \"Laranja\""
      ],
      "execution_count": null,
      "outputs": []
    },
    {
      "cell_type": "code",
      "metadata": {
        "id": "a-KaNhePE0nb",
        "colab": {
          "base_uri": "https://localhost:8080/",
          "height": 34
        },
        "outputId": "ddf3ebbd-355a-467e-d238-0c9601e07c61"
      },
      "source": [
        "#contar número de elementos\n",
        "tp.count(\"Maçã\")"
      ],
      "execution_count": null,
      "outputs": [
        {
          "output_type": "execute_result",
          "data": {
            "text/plain": [
              "1"
            ]
          },
          "metadata": {
            "tags": []
          },
          "execution_count": 30
        }
      ]
    },
    {
      "cell_type": "code",
      "metadata": {
        "id": "ntXTi7MaFAX7",
        "colab": {
          "base_uri": "https://localhost:8080/"
        },
        "outputId": "7032f30d-3489-4059-900c-c0b71aad62e2"
      },
      "source": [
        "#fazer slice da posição zero até a posição 1, mas coloca uma posição a mais como valor.\n",
        "tp[0:2]"
      ],
      "execution_count": 38,
      "outputs": [
        {
          "output_type": "execute_result",
          "data": {
            "text/plain": [
              "('Banana', 'Maçã')"
            ]
          },
          "metadata": {},
          "execution_count": 38
        }
      ]
    },
    {
      "cell_type": "markdown",
      "metadata": {
        "id": "Q0Ltz4kcFQps"
      },
      "source": [
        "# **Dicionários**\n",
        "(estrutura de dados)\n"
      ]
    },
    {
      "cell_type": "code",
      "metadata": {
        "id": "43OFknPUFO68"
      },
      "source": [
        "#Para criar um dicionário utilizamos as {}\n",
        "dc = {\"Maçã\":20, \"Banana\":10, \"Laranja\":15, \"Uva\":5} #Dicionários trabalham com o condeito chave e valor"
      ],
      "execution_count": 1,
      "outputs": []
    },
    {
      "cell_type": "code",
      "metadata": {
        "id": "dCH9PefxGBdZ",
        "colab": {
          "base_uri": "https://localhost:8080/"
        },
        "outputId": "cb4e788a-992d-449e-e63d-d0af742c5d86"
      },
      "source": [
        "dc"
      ],
      "execution_count": 2,
      "outputs": [
        {
          "output_type": "execute_result",
          "data": {
            "text/plain": [
              "{'Maçã': 20, 'Banana': 10, 'Laranja': 15, 'Uva': 5}"
            ]
          },
          "metadata": {},
          "execution_count": 2
        }
      ]
    },
    {
      "cell_type": "code",
      "metadata": {
        "id": "iyGxfz72FxNa",
        "colab": {
          "base_uri": "https://localhost:8080/"
        },
        "outputId": "7cd7796b-3ba4-454d-8145-e2defea70fd9"
      },
      "source": [
        "#Acessando o valor de um dicionário através da chave\n",
        "dc[\"Maçã\"]"
      ],
      "execution_count": 3,
      "outputs": [
        {
          "output_type": "execute_result",
          "data": {
            "text/plain": [
              "20"
            ]
          },
          "metadata": {},
          "execution_count": 3
        }
      ]
    },
    {
      "cell_type": "code",
      "metadata": {
        "id": "6WwkohdpF5Cq",
        "colab": {
          "base_uri": "https://localhost:8080/"
        },
        "outputId": "749a6915-939b-4800-e3de-7ee41942480a"
      },
      "source": [
        "#Atualizando o valor da Maçã\n",
        "dc[\"Maçã\"] = 25\n",
        "dc"
      ],
      "execution_count": 4,
      "outputs": [
        {
          "output_type": "execute_result",
          "data": {
            "text/plain": [
              "{'Maçã': 25, 'Banana': 10, 'Laranja': 15, 'Uva': 5}"
            ]
          },
          "metadata": {},
          "execution_count": 4
        }
      ]
    },
    {
      "cell_type": "code",
      "metadata": {
        "id": "_50MV-XaGFae",
        "colab": {
          "base_uri": "https://localhost:8080/"
        },
        "outputId": "6a8b4230-e252-4924-8fe0-446317a4405f"
      },
      "source": [
        "#Retornando todas as chaves do dicionário\n",
        "dc.keys()"
      ],
      "execution_count": 5,
      "outputs": [
        {
          "output_type": "execute_result",
          "data": {
            "text/plain": [
              "dict_keys(['Maçã', 'Banana', 'Laranja', 'Uva'])"
            ]
          },
          "metadata": {},
          "execution_count": 5
        }
      ]
    },
    {
      "cell_type": "code",
      "metadata": {
        "id": "AHLXfikMGRS4",
        "colab": {
          "base_uri": "https://localhost:8080/"
        },
        "outputId": "5b76b9e5-20b6-41d2-976b-d0724f11249b"
      },
      "source": [
        "#Retornando os valores do dicionário\n",
        "dc.values()"
      ],
      "execution_count": 6,
      "outputs": [
        {
          "output_type": "execute_result",
          "data": {
            "text/plain": [
              "dict_values([25, 10, 15, 5])"
            ]
          },
          "metadata": {},
          "execution_count": 6
        }
      ]
    },
    {
      "cell_type": "code",
      "metadata": {
        "id": "co2yQ4IrGX8n",
        "colab": {
          "base_uri": "https://localhost:8080/"
        },
        "outputId": "5e691989-79b8-495c-9a13-5ef810cfd1a6"
      },
      "source": [
        "#Verificando se já existe uma chave no dicionário e caso não exista inserir\n",
        "dc.setdefault(\"Limão\", 22)"
      ],
      "execution_count": 7,
      "outputs": [
        {
          "output_type": "execute_result",
          "data": {
            "text/plain": [
              "22"
            ]
          },
          "metadata": {},
          "execution_count": 7
        }
      ]
    },
    {
      "cell_type": "code",
      "metadata": {
        "id": "M9_v4jAZGyz6",
        "colab": {
          "base_uri": "https://localhost:8080/"
        },
        "outputId": "5bc98e72-1119-4b40-de26-8e27ce893c00"
      },
      "source": [
        "dc"
      ],
      "execution_count": 8,
      "outputs": [
        {
          "output_type": "execute_result",
          "data": {
            "text/plain": [
              "{'Maçã': 25, 'Banana': 10, 'Laranja': 15, 'Uva': 5, 'Limão': 22}"
            ]
          },
          "metadata": {},
          "execution_count": 8
        }
      ]
    },
    {
      "cell_type": "code",
      "metadata": {
        "id": "l2-4mE1LG0CC",
        "colab": {
          "base_uri": "https://localhost:8080/"
        },
        "outputId": "e004704c-6d5b-4fa0-a24c-d94c53e36f0e"
      },
      "source": [
        "#verificando se já existe uma chave 2\n",
        "dc.setdefault('Banana', 10)"
      ],
      "execution_count": 11,
      "outputs": [
        {
          "output_type": "execute_result",
          "data": {
            "text/plain": [
              "10"
            ]
          },
          "metadata": {},
          "execution_count": 11
        }
      ]
    },
    {
      "cell_type": "code",
      "source": [
        "dc"
      ],
      "metadata": {
        "id": "L4kiWs-awKbd",
        "outputId": "72f71bee-8f59-4fc2-bbc6-b1bf44d54eba",
        "colab": {
          "base_uri": "https://localhost:8080/"
        }
      },
      "execution_count": 12,
      "outputs": [
        {
          "output_type": "execute_result",
          "data": {
            "text/plain": [
              "{'Maçã': 25, 'Banana': 10, 'Laranja': 15, 'Uva': 5, 'Limão': 22}"
            ]
          },
          "metadata": {},
          "execution_count": 12
        }
      ]
    },
    {
      "cell_type": "code",
      "source": [
        "dc.setdefault('Banana', 15)"
      ],
      "metadata": {
        "id": "G4i75RAjwPH3",
        "outputId": "563f8d0f-38f5-4e3d-be1c-d4867773aec8",
        "colab": {
          "base_uri": "https://localhost:8080/"
        }
      },
      "execution_count": 13,
      "outputs": [
        {
          "output_type": "execute_result",
          "data": {
            "text/plain": [
              "10"
            ]
          },
          "metadata": {},
          "execution_count": 13
        }
      ]
    },
    {
      "cell_type": "code",
      "source": [
        "dc"
      ],
      "metadata": {
        "id": "3Nlrq6eBwWdl",
        "outputId": "3dd827fb-275d-4d0b-d6e6-f3a7953aa174",
        "colab": {
          "base_uri": "https://localhost:8080/"
        }
      },
      "execution_count": 14,
      "outputs": [
        {
          "output_type": "execute_result",
          "data": {
            "text/plain": [
              "{'Maçã': 25, 'Banana': 10, 'Laranja': 15, 'Uva': 5, 'Limão': 22}"
            ]
          },
          "metadata": {},
          "execution_count": 14
        }
      ]
    },
    {
      "cell_type": "code",
      "source": [
        "dc.setdefault('Graviola', 65)"
      ],
      "metadata": {
        "id": "JoiEjteDwZ8h",
        "outputId": "51ba8b8a-441e-4bda-82cb-f6bfa28c34c2",
        "colab": {
          "base_uri": "https://localhost:8080/"
        }
      },
      "execution_count": 16,
      "outputs": [
        {
          "output_type": "execute_result",
          "data": {
            "text/plain": [
              "65"
            ]
          },
          "metadata": {},
          "execution_count": 16
        }
      ]
    },
    {
      "cell_type": "code",
      "source": [
        "dc"
      ],
      "metadata": {
        "id": "zSU1epkqwk5I",
        "outputId": "cc69c2cc-f82d-4e6f-ee77-c833bd283095",
        "colab": {
          "base_uri": "https://localhost:8080/"
        }
      },
      "execution_count": 17,
      "outputs": [
        {
          "output_type": "execute_result",
          "data": {
            "text/plain": [
              "{'Maçã': 25,\n",
              " 'Banana': 10,\n",
              " 'Laranja': 15,\n",
              " 'Uva': 5,\n",
              " 'Limão': 22,\n",
              " 'Graviola': 65}"
            ]
          },
          "metadata": {},
          "execution_count": 17
        }
      ]
    }
  ]
}